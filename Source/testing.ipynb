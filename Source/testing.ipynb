{
 "cells": [
  {
   "cell_type": "code",
   "execution_count": 1,
   "metadata": {},
   "outputs": [],
   "source": [
    "import numpy as np\n",
    "import matplotlib.pyplot as plt\n",
    "import pandas as pd\n",
    "import pm4py\n",
    "import pickle\n",
    "import itertools\n",
    "import seed_to_harvest as sth\n",
    "import geopandas as gpd\n",
    "import os"
   ]
  },
  {
   "cell_type": "code",
   "execution_count": 2,
   "metadata": {},
   "outputs": [
    {
     "ename": "FileNotFoundError",
     "evalue": "File Data/Idaho/sites//Site158_NBARint.h5 does not exist",
     "output_type": "error",
     "traceback": [
      "\u001b[1;31m---------------------------------------------------------------------------\u001b[0m",
      "\u001b[1;31mFileNotFoundError\u001b[0m                         Traceback (most recent call last)",
      "Cell \u001b[1;32mIn[2], line 10\u001b[0m\n\u001b[0;32m      7\u001b[0m season_pth \u001b[38;5;241m=\u001b[39m \u001b[38;5;124m'\u001b[39m\u001b[38;5;124mData/\u001b[39m\u001b[38;5;124m'\u001b[39m\u001b[38;5;241m+\u001b[39mCase\u001b[38;5;241m+\u001b[39m\u001b[38;5;124m'\u001b[39m\u001b[38;5;124m/season/\u001b[39m\u001b[38;5;124m'\u001b[39m\n\u001b[0;32m      9\u001b[0m sid\u001b[38;5;241m=\u001b[39m\u001b[38;5;241m158\u001b[39m\n\u001b[1;32m---> 10\u001b[0m ts\u001b[38;5;241m=\u001b[39mpd\u001b[38;5;241m.\u001b[39mread_hdf(sites_pth\u001b[38;5;241m+\u001b[39m\u001b[38;5;124mf\u001b[39m\u001b[38;5;124m'\u001b[39m\u001b[38;5;124m/Site\u001b[39m\u001b[38;5;132;01m{\u001b[39;00msid\u001b[38;5;132;01m:\u001b[39;00m\u001b[38;5;124m03\u001b[39m\u001b[38;5;132;01m}\u001b[39;00m\u001b[38;5;124m_NBARint.h5\u001b[39m\u001b[38;5;124m'\u001b[39m)\n\u001b[0;32m     11\u001b[0m season\u001b[38;5;241m=\u001b[39mpd\u001b[38;5;241m.\u001b[39mread_hdf(season_pth\u001b[38;5;241m+\u001b[39m\u001b[38;5;124mf\u001b[39m\u001b[38;5;124m'\u001b[39m\u001b[38;5;124m/Site\u001b[39m\u001b[38;5;132;01m{\u001b[39;00msid\u001b[38;5;132;01m:\u001b[39;00m\u001b[38;5;124m03\u001b[39m\u001b[38;5;132;01m}\u001b[39;00m\u001b[38;5;124m_season_day.h5\u001b[39m\u001b[38;5;124m'\u001b[39m)\n\u001b[0;32m     12\u001b[0m site_names \u001b[38;5;241m=\u001b[39m os\u001b[38;5;241m.\u001b[39mlistdir(sites_pth)\n",
      "File \u001b[1;32mc:\\Users\\Vito\\miniconda3\\envs\\gee\\Lib\\site-packages\\pandas\\io\\pytables.py:414\u001b[0m, in \u001b[0;36mread_hdf\u001b[1;34m(path_or_buf, key, mode, errors, where, start, stop, columns, iterator, chunksize, **kwargs)\u001b[0m\n\u001b[0;32m    411\u001b[0m     exists \u001b[38;5;241m=\u001b[39m \u001b[38;5;28;01mFalse\u001b[39;00m\n\u001b[0;32m    413\u001b[0m \u001b[38;5;28;01mif\u001b[39;00m \u001b[38;5;129;01mnot\u001b[39;00m exists:\n\u001b[1;32m--> 414\u001b[0m     \u001b[38;5;28;01mraise\u001b[39;00m \u001b[38;5;167;01mFileNotFoundError\u001b[39;00m(\u001b[38;5;124mf\u001b[39m\u001b[38;5;124m\"\u001b[39m\u001b[38;5;124mFile \u001b[39m\u001b[38;5;132;01m{\u001b[39;00mpath_or_buf\u001b[38;5;132;01m}\u001b[39;00m\u001b[38;5;124m does not exist\u001b[39m\u001b[38;5;124m\"\u001b[39m)\n\u001b[0;32m    416\u001b[0m store \u001b[38;5;241m=\u001b[39m HDFStore(path_or_buf, mode\u001b[38;5;241m=\u001b[39mmode, errors\u001b[38;5;241m=\u001b[39merrors, \u001b[38;5;241m*\u001b[39m\u001b[38;5;241m*\u001b[39mkwargs)\n\u001b[0;32m    417\u001b[0m \u001b[38;5;66;03m# can't auto open/close if we are using an iterator\u001b[39;00m\n\u001b[0;32m    418\u001b[0m \u001b[38;5;66;03m# so delegate to the iterator\u001b[39;00m\n",
      "\u001b[1;31mFileNotFoundError\u001b[0m: File Data/Idaho/sites//Site158_NBARint.h5 does not exist"
     ]
    }
   ],
   "source": [
    "#Dir path\n",
    "Case='Idaho'\n",
    "#Case='NorthDakota'\n",
    "#Case='Colorado'\n",
    "sites_pth = 'Data/'+Case+'/sites/'\n",
    "cdl_pth = 'Data/'+Case+'/cdl/'\n",
    "season_pth = 'Data/'+Case+'/season/'\n",
    "\n",
    "sid=158\n",
    "ts=pd.read_hdf(sites_pth+f'/Site{sid:03}_NBARint.h5')\n",
    "season=pd.read_hdf(season_pth+f'/Site{sid:03}_season_day.h5')\n",
    "site_names = os.listdir(sites_pth)"
   ]
  },
  {
   "cell_type": "code",
   "execution_count": 6,
   "metadata": {},
   "outputs": [
    {
     "name": "stderr",
     "output_type": "stream",
     "text": [
      "C:\\Users\\Vito\\AppData\\Local\\Temp\\ipykernel_29836\\1827980668.py:4: FutureWarning: Indexing a DataFrame with a datetimelike index using a single string to slice the rows, like `frame[string]`, is deprecated and will be removed in a future version. Use `frame.loc[string]` instead.\n",
      "  ts[f'{yt}'].plot()\n"
     ]
    },
    {
     "data": {
      "text/plain": [
       "<matplotlib.lines.Line2D at 0x2d17f0606d0>"
      ]
     },
     "execution_count": 6,
     "metadata": {},
     "output_type": "execute_result"
    },
    {
     "data": {
      "image/png": "[encoded data removed]",
      "text/plain": [
       "<Figure size 640x480 with 1 Axes>"
      ]
     },
     "metadata": {},
     "output_type": "display_data"
    }
   ],
   "source": [
    "yt=2009\n",
    "start_season = season.loc[int(yt)]['start_season']\n",
    "end_season = season.loc[int(yt)]['end_season']\n",
    "ts[f'{yt}'].plot()\n",
    "plt.axvline(start_season, color='r')\n",
    "plt.axvline(end_season, color='r')"
   ]
  },
  {
   "cell_type": "code",
   "execution_count": 7,
   "metadata": {},
   "outputs": [],
   "source": [
    "site_names = os.listdir(sites_pth)\n",
    "cdl_names = os.listdir(cdl_pth)\n",
    "season_names = os.listdir(season_pth)\n",
    "location=np.load('Data/'+Case+'/masklayers/wgscenterlist.npy')"
   ]
  },
  {
   "cell_type": "code",
   "execution_count": null,
   "metadata": {},
   "outputs": [],
   "source": [
    "i=0\n",
    "ts=pd.read_hdf(sites_pth+site_names[i])#f'/Site{sid:03}_NBARint.h5')\n",
    "cdl=pd.read_hdf(cdl_pth+cdl_names[i])#f'/Site{sid:03}_cdl.h5')\n",
    "season=pd.read_hdf(season_pth+season_names[i])#f'/Site{sid:03}_season_day.h5')\n",
    "loc=location[i]"
   ]
  },
  {
   "cell_type": "code",
   "execution_count": null,
   "metadata": {},
   "outputs": [],
   "source": [
    "timelog, warnings = sth.eventtime_MACD(ts, season, cdl, sid, loc, start_year=start_year)"
   ]
  },
  {
   "cell_type": "code",
   "execution_count": 2,
   "metadata": {},
   "outputs": [],
   "source": [
    "Case='Colorado'\n",
    "#Case='NorthDakota'\n",
    "#Case='Idaho'\n",
    "#timelog=pd.read_hdf('C:/Users/Vito/Documents/Seed_to_harvest_process_monitoring/Event_log/log_148sites_240129_df.h5')\n",
    "timelog=pd.read_hdf('C:/Users/Vito/Documents/Seed_to_harvest_process_monitoring/Event_log/log_'+Case+'_180724_ALL_df.h5')"
   ]
  },
  {
   "cell_type": "code",
   "execution_count": 4,
   "metadata": {},
   "outputs": [
    {
     "data": {
      "text/plain": [
       "{'Barley': [[73, 136], [201, 257]],\n",
       " 'Dry Beans': [[140, 176], [247, 293]],\n",
       " 'Potatoes': [[122, 151], [249, 290]],\n",
       " 'Spring Wheat': [[87, 143], [204, 272]],\n",
       " 'Sugarbeets': [[89, 130], [273, 316]]}"
      ]
     },
     "execution_count": 4,
     "metadata": {},
     "output_type": "execute_result"
    }
   ],
   "source": [
    "usuals=np.load('Data/'+Case+'/masklayers/usuals.npy', allow_pickle=True)[0]\n",
    "usuals"
   ]
  },
  {
   "cell_type": "code",
   "execution_count": 5,
   "metadata": {},
   "outputs": [],
   "source": [
    "keynames=list(usuals.keys())"
   ]
  },
  {
   "cell_type": "code",
   "execution_count": 6,
   "metadata": {},
   "outputs": [
    {
     "name": "stderr",
     "output_type": "stream",
     "text": [
      "C:\\Users\\Vito\\AppData\\Local\\Temp\\ipykernel_13744\\3929271774.py:1: PerformanceWarning: \n",
      "your performance may suffer as PyTables will pickle object types that it cannot\n",
      "map directly to c-types [inferred_type->mixed,key->block0_values] [items->Index(['Activity', 'Time_uncertainty', 'CaseID', 'Crop', 'WGS84_lon_lat',\n",
      "       'County', 'State', 'Country', 'NDVI_range'],\n",
      "      dtype='object')]\n",
      "\n",
      "  timelog[timelog['Crop'].isin(keynames)].to_hdf('C:/Users/Vito/Documents/Seed_to_harvest_process_monitoring/Event_log/log_'+Case+'_180724_ALL_df_subset.h5', key='df', mode='w')\n",
      "C:\\Users\\Vito\\AppData\\Local\\Temp\\ipykernel_13744\\3929271774.py:3: DeprecatedWarning: format_dataframe is deprecated as of 2.3.0 and will be removed in 3.0.0. the format_dataframe function does not need application anymore.\n",
      "  dataframe = pm4py.format_dataframe(timelog[timelog['Crop'].isin(keynames)], case_id='CaseID', activity_key='Activity', timestamp_key='Timestamp')\n",
      "c:\\Users\\Vito\\miniconda3\\envs\\gee\\Lib\\site-packages\\pm4py\\utils.py:75: SettingWithCopyWarning: \n",
      "A value is trying to be set on a copy of a slice from a DataFrame.\n",
      "Try using .loc[row_indexer,col_indexer] = value instead\n",
      "\n",
      "See the caveats in the documentation: https://pandas.pydata.org/pandas-docs/stable/user_guide/indexing.html#returning-a-view-versus-a-copy\n",
      "  df[constants.CASE_CONCEPT_NAME] = df[case_id]\n",
      "c:\\Users\\Vito\\miniconda3\\envs\\gee\\Lib\\site-packages\\pm4py\\utils.py:79: SettingWithCopyWarning: \n",
      "A value is trying to be set on a copy of a slice from a DataFrame.\n",
      "Try using .loc[row_indexer,col_indexer] = value instead\n",
      "\n",
      "See the caveats in the documentation: https://pandas.pydata.org/pandas-docs/stable/user_guide/indexing.html#returning-a-view-versus-a-copy\n",
      "  df[xes_constants.DEFAULT_NAME_KEY] = df[activity_key]\n",
      "c:\\Users\\Vito\\miniconda3\\envs\\gee\\Lib\\site-packages\\pm4py\\utils.py:83: SettingWithCopyWarning: \n",
      "A value is trying to be set on a copy of a slice from a DataFrame.\n",
      "Try using .loc[row_indexer,col_indexer] = value instead\n",
      "\n",
      "See the caveats in the documentation: https://pandas.pydata.org/pandas-docs/stable/user_guide/indexing.html#returning-a-view-versus-a-copy\n",
      "  df[xes_constants.DEFAULT_TIMESTAMP_KEY] = df[timestamp_key]\n",
      "c:\\Users\\Vito\\miniconda3\\envs\\gee\\Lib\\site-packages\\pm4py\\utils.py:486: UserWarning: the EventLog class has been deprecated and will be removed in a future release.\n",
      "  warnings.warn(\"the EventLog class has been deprecated and will be removed in a future release.\")\n"
     ]
    },
    {
     "data": {
      "application/vnd.jupyter.widget-view+json": {
       "model_id": "17d2e2816e45421cb9a2f6b07e7f6d17",
       "version_major": 2,
       "version_minor": 0
      },
      "text/plain": [
       "exporting log, completed traces ::   0%|          | 0/2027 [00:00<?, ?it/s]"
      ]
     },
     "metadata": {},
     "output_type": "display_data"
    }
   ],
   "source": [
    "timelog[timelog['Crop'].isin(keynames)].to_hdf('C:/Users/Vito/Documents/Seed_to_harvest_process_monitoring/Event_log/log_'+Case+'_180724_ALL_df_subset.h5', key='df', mode='w') \n",
    "if __name__ == \"__main__\":\n",
    "    dataframe = pm4py.format_dataframe(timelog[timelog['Crop'].isin(keynames)], case_id='CaseID', activity_key='Activity', timestamp_key='Timestamp')\n",
    "    event_log = pm4py.convert_to_event_log(dataframe)\n",
    "    pm4py.write_xes(event_log, 'C:/Users/Vito/Documents/Seed_to_harvest_process_monitoring/Event_log/log_'+Case+'_180724_ALL_subset.xes')"
   ]
  },
  {
   "cell_type": "code",
   "execution_count": 90,
   "metadata": {},
   "outputs": [],
   "source": [
    "def crop_usual_class(log, crop, start, end, act):\n",
    "    log.loc[(log['Crop']==crop)&(log['Activity']==act)&(log['doy']>=start)&(log['doy']<=end),['Activity']]='Usual '+act\n",
    "    log.loc[(log['Crop']==crop)&(log['Activity']==act)&(log['doy']<start),['Activity']]='Early '+act\n",
    "    log.loc[(log['Crop']==crop)&(log['Activity']==act)&(log['doy']>end),['Activity']]='Late '+act\n",
    "    return log\n",
    "timelog['doy']=timelog['Timestamp'].dt.dayofyear\n",
    "for crop in keynames:\n",
    "    timelog=crop_usual_class(timelog, crop, usuals[crop][0][0], usuals[crop][0][1],'Emergence')\n",
    "    timelog=crop_usual_class(timelog, crop, usuals[crop][1][0], usuals[crop][1][1],'Dormancy')\n",
    "#timelog.drop(columns=['doy'], inplace=True)"
   ]
  },
  {
   "cell_type": "code",
   "execution_count": 93,
   "metadata": {},
   "outputs": [
    {
     "data": {
      "text/html": [
       "<div>\n",
       "<style scoped>\n",
       "    .dataframe tbody tr th:only-of-type {\n",
       "        vertical-align: middle;\n",
       "    }\n",
       "\n",
       "    .dataframe tbody tr th {\n",
       "        vertical-align: top;\n",
       "    }\n",
       "\n",
       "    .dataframe thead th {\n",
       "        text-align: right;\n",
       "    }\n",
       "</style>\n",
       "<table border=\"1\" class=\"dataframe\">\n",
       "  <thead>\n",
       "    <tr style=\"text-align: right;\">\n",
       "      <th></th>\n",
       "      <th>Activity</th>\n",
       "      <th>Timestamp</th>\n",
       "      <th>Time_uncertainty</th>\n",
       "      <th>CaseID</th>\n",
       "      <th>Crop</th>\n",
       "      <th>SiteID</th>\n",
       "      <th>WGS84_lon_lat</th>\n",
       "      <th>County</th>\n",
       "      <th>State</th>\n",
       "      <th>Country</th>\n",
       "      <th>NDVI_range</th>\n",
       "      <th>num_valid_est</th>\n",
       "      <th>Multiple_crop</th>\n",
       "      <th>doy</th>\n",
       "    </tr>\n",
       "  </thead>\n",
       "  <tbody>\n",
       "    <tr>\n",
       "      <th>17</th>\n",
       "      <td>Usual First Snow</td>\n",
       "      <td>2010-11-25</td>\n",
       "      <td>2010-11-25 00:00:00</td>\n",
       "      <td>0000_2010</td>\n",
       "      <td>Winter Wheat</td>\n",
       "      <td>0</td>\n",
       "      <td>[-113.05221260418197, 42.746131542842555]</td>\n",
       "      <td>Power County</td>\n",
       "      <td>Idaho</td>\n",
       "      <td>United States</td>\n",
       "      <td>[0.23193886778739564, 0.23193886778739564]</td>\n",
       "      <td>1</td>\n",
       "      <td>0</td>\n",
       "      <td>329</td>\n",
       "    </tr>\n",
       "    <tr>\n",
       "      <th>23</th>\n",
       "      <td>Usual First Snow</td>\n",
       "      <td>2011-11-19</td>\n",
       "      <td>2011-11-19 00:00:00</td>\n",
       "      <td>0000_2011</td>\n",
       "      <td>Potatoes</td>\n",
       "      <td>0</td>\n",
       "      <td>[-113.05221260418197, 42.746131542842555]</td>\n",
       "      <td>Power County</td>\n",
       "      <td>Idaho</td>\n",
       "      <td>United States</td>\n",
       "      <td>[0.4040899319193207, 0.4040899319193207]</td>\n",
       "      <td>1</td>\n",
       "      <td>0</td>\n",
       "      <td>323</td>\n",
       "    </tr>\n",
       "    <tr>\n",
       "      <th>35</th>\n",
       "      <td>Usual First Snow</td>\n",
       "      <td>2013-11-22</td>\n",
       "      <td>2013-11-22 00:00:00</td>\n",
       "      <td>0000_2013</td>\n",
       "      <td>Potatoes</td>\n",
       "      <td>0</td>\n",
       "      <td>[-113.05221260418197, 42.746131542842555]</td>\n",
       "      <td>Power County</td>\n",
       "      <td>Idaho</td>\n",
       "      <td>United States</td>\n",
       "      <td>[0.44367486849794835, 0.44367486849794835]</td>\n",
       "      <td>1</td>\n",
       "      <td>0</td>\n",
       "      <td>326</td>\n",
       "    </tr>\n",
       "    <tr>\n",
       "      <th>41</th>\n",
       "      <td>Usual First Snow</td>\n",
       "      <td>2014-11-17</td>\n",
       "      <td>2014-11-17 00:00:00</td>\n",
       "      <td>0000_2014</td>\n",
       "      <td>Winter Wheat</td>\n",
       "      <td>0</td>\n",
       "      <td>[-113.05221260418197, 42.746131542842555]</td>\n",
       "      <td>Power County</td>\n",
       "      <td>Idaho</td>\n",
       "      <td>United States</td>\n",
       "      <td>[0.39381907390247445, 0.39381907390247445]</td>\n",
       "      <td>1</td>\n",
       "      <td>0</td>\n",
       "      <td>321</td>\n",
       "    </tr>\n",
       "    <tr>\n",
       "      <th>47</th>\n",
       "      <td>Usual First Snow</td>\n",
       "      <td>2015-11-28</td>\n",
       "      <td>2015-11-28 00:00:00</td>\n",
       "      <td>0000_2015</td>\n",
       "      <td>Winter Wheat</td>\n",
       "      <td>0</td>\n",
       "      <td>[-113.05221260418197, 42.746131542842555]</td>\n",
       "      <td>Power County</td>\n",
       "      <td>Idaho</td>\n",
       "      <td>United States</td>\n",
       "      <td>[0.3714477296349794, 0.3714477296349794]</td>\n",
       "      <td>1</td>\n",
       "      <td>0</td>\n",
       "      <td>332</td>\n",
       "    </tr>\n",
       "    <tr>\n",
       "      <th>...</th>\n",
       "      <td>...</td>\n",
       "      <td>...</td>\n",
       "      <td>...</td>\n",
       "      <td>...</td>\n",
       "      <td>...</td>\n",
       "      <td>...</td>\n",
       "      <td>...</td>\n",
       "      <td>...</td>\n",
       "      <td>...</td>\n",
       "      <td>...</td>\n",
       "      <td>...</td>\n",
       "      <td>...</td>\n",
       "      <td>...</td>\n",
       "      <td>...</td>\n",
       "    </tr>\n",
       "    <tr>\n",
       "      <th>13185</th>\n",
       "      <td>Usual First Snow</td>\n",
       "      <td>2011-11-19</td>\n",
       "      <td>2011-11-19 00:00:00</td>\n",
       "      <td>0147_2011</td>\n",
       "      <td>Winter Wheat</td>\n",
       "      <td>147</td>\n",
       "      <td>[-112.79625830859523, 42.99857351545601]</td>\n",
       "      <td>Bingham County</td>\n",
       "      <td>Idaho</td>\n",
       "      <td>United States</td>\n",
       "      <td>[0.3818323770697604, 0.3818323770697604]</td>\n",
       "      <td>1</td>\n",
       "      <td>0</td>\n",
       "      <td>323</td>\n",
       "    </tr>\n",
       "    <tr>\n",
       "      <th>13203</th>\n",
       "      <td>Usual First Snow</td>\n",
       "      <td>2014-11-15</td>\n",
       "      <td>2014-11-15 00:00:00</td>\n",
       "      <td>0147_2014</td>\n",
       "      <td>Sugarbeets</td>\n",
       "      <td>147</td>\n",
       "      <td>[-112.79625830859523, 42.99857351545601]</td>\n",
       "      <td>Bingham County</td>\n",
       "      <td>Idaho</td>\n",
       "      <td>United States</td>\n",
       "      <td>[0.27203997946139047, 0.27203997946139047]</td>\n",
       "      <td>1</td>\n",
       "      <td>0</td>\n",
       "      <td>319</td>\n",
       "    </tr>\n",
       "    <tr>\n",
       "      <th>13209</th>\n",
       "      <td>Usual First Snow</td>\n",
       "      <td>2015-11-28</td>\n",
       "      <td>2015-11-28 00:00:00</td>\n",
       "      <td>0147_2015</td>\n",
       "      <td>Spring Wheat</td>\n",
       "      <td>147</td>\n",
       "      <td>[-112.79625830859523, 42.99857351545601]</td>\n",
       "      <td>Bingham County</td>\n",
       "      <td>Idaho</td>\n",
       "      <td>United States</td>\n",
       "      <td>[0.321892762491567, 0.321892762491567]</td>\n",
       "      <td>1</td>\n",
       "      <td>0</td>\n",
       "      <td>332</td>\n",
       "    </tr>\n",
       "    <tr>\n",
       "      <th>13239</th>\n",
       "      <td>Usual First Snow</td>\n",
       "      <td>2020-11-14</td>\n",
       "      <td>2020-11-14 00:00:00</td>\n",
       "      <td>0147_2020</td>\n",
       "      <td>Winter Wheat</td>\n",
       "      <td>147</td>\n",
       "      <td>[-112.79625830859523, 42.99857351545601]</td>\n",
       "      <td>Bingham County</td>\n",
       "      <td>Idaho</td>\n",
       "      <td>United States</td>\n",
       "      <td>[0.1915224185359123, 0.1915224185359123]</td>\n",
       "      <td>1</td>\n",
       "      <td>0</td>\n",
       "      <td>319</td>\n",
       "    </tr>\n",
       "    <tr>\n",
       "      <th>13251</th>\n",
       "      <td>Usual First Snow</td>\n",
       "      <td>2022-11-18</td>\n",
       "      <td>2022-11-18 00:00:00</td>\n",
       "      <td>0147_2022</td>\n",
       "      <td>Potatoes</td>\n",
       "      <td>147</td>\n",
       "      <td>[-112.79625830859523, 42.99857351545601]</td>\n",
       "      <td>Bingham County</td>\n",
       "      <td>Idaho</td>\n",
       "      <td>United States</td>\n",
       "      <td>[0.13696455786074355, 0.13696455786074355]</td>\n",
       "      <td>1</td>\n",
       "      <td>0</td>\n",
       "      <td>322</td>\n",
       "    </tr>\n",
       "  </tbody>\n",
       "</table>\n",
       "<p>1051 rows × 14 columns</p>\n",
       "</div>"
      ],
      "text/plain": [
       "               Activity  Timestamp     Time_uncertainty     CaseID  \\\n",
       "17     Usual First Snow 2010-11-25  2010-11-25 00:00:00  0000_2010   \n",
       "23     Usual First Snow 2011-11-19  2011-11-19 00:00:00  0000_2011   \n",
       "35     Usual First Snow 2013-11-22  2013-11-22 00:00:00  0000_2013   \n",
       "41     Usual First Snow 2014-11-17  2014-11-17 00:00:00  0000_2014   \n",
       "47     Usual First Snow 2015-11-28  2015-11-28 00:00:00  0000_2015   \n",
       "...                 ...        ...                  ...        ...   \n",
       "13185  Usual First Snow 2011-11-19  2011-11-19 00:00:00  0147_2011   \n",
       "13203  Usual First Snow 2014-11-15  2014-11-15 00:00:00  0147_2014   \n",
       "13209  Usual First Snow 2015-11-28  2015-11-28 00:00:00  0147_2015   \n",
       "13239  Usual First Snow 2020-11-14  2020-11-14 00:00:00  0147_2020   \n",
       "13251  Usual First Snow 2022-11-18  2022-11-18 00:00:00  0147_2022   \n",
       "\n",
       "               Crop  SiteID                              WGS84_lon_lat  \\\n",
       "17     Winter Wheat       0  [-113.05221260418197, 42.746131542842555]   \n",
       "23         Potatoes       0  [-113.05221260418197, 42.746131542842555]   \n",
       "35         Potatoes       0  [-113.05221260418197, 42.746131542842555]   \n",
       "41     Winter Wheat       0  [-113.05221260418197, 42.746131542842555]   \n",
       "47     Winter Wheat       0  [-113.05221260418197, 42.746131542842555]   \n",
       "...             ...     ...                                        ...   \n",
       "13185  Winter Wheat     147   [-112.79625830859523, 42.99857351545601]   \n",
       "13203    Sugarbeets     147   [-112.79625830859523, 42.99857351545601]   \n",
       "13209  Spring Wheat     147   [-112.79625830859523, 42.99857351545601]   \n",
       "13239  Winter Wheat     147   [-112.79625830859523, 42.99857351545601]   \n",
       "13251      Potatoes     147   [-112.79625830859523, 42.99857351545601]   \n",
       "\n",
       "               County  State        Country  \\\n",
       "17       Power County  Idaho  United States   \n",
       "23       Power County  Idaho  United States   \n",
       "35       Power County  Idaho  United States   \n",
       "41       Power County  Idaho  United States   \n",
       "47       Power County  Idaho  United States   \n",
       "...               ...    ...            ...   \n",
       "13185  Bingham County  Idaho  United States   \n",
       "13203  Bingham County  Idaho  United States   \n",
       "13209  Bingham County  Idaho  United States   \n",
       "13239  Bingham County  Idaho  United States   \n",
       "13251  Bingham County  Idaho  United States   \n",
       "\n",
       "                                       NDVI_range  num_valid_est  \\\n",
       "17     [0.23193886778739564, 0.23193886778739564]              1   \n",
       "23       [0.4040899319193207, 0.4040899319193207]              1   \n",
       "35     [0.44367486849794835, 0.44367486849794835]              1   \n",
       "41     [0.39381907390247445, 0.39381907390247445]              1   \n",
       "47       [0.3714477296349794, 0.3714477296349794]              1   \n",
       "...                                           ...            ...   \n",
       "13185    [0.3818323770697604, 0.3818323770697604]              1   \n",
       "13203  [0.27203997946139047, 0.27203997946139047]              1   \n",
       "13209      [0.321892762491567, 0.321892762491567]              1   \n",
       "13239    [0.1915224185359123, 0.1915224185359123]              1   \n",
       "13251  [0.13696455786074355, 0.13696455786074355]              1   \n",
       "\n",
       "       Multiple_crop  doy  \n",
       "17                 0  329  \n",
       "23                 0  323  \n",
       "35                 0  326  \n",
       "41                 0  321  \n",
       "47                 0  332  \n",
       "...              ...  ...  \n",
       "13185              0  323  \n",
       "13203              0  319  \n",
       "13209              0  332  \n",
       "13239              0  319  \n",
       "13251              0  322  \n",
       "\n",
       "[1051 rows x 14 columns]"
      ]
     },
     "execution_count": 93,
     "metadata": {},
     "output_type": "execute_result"
    }
   ],
   "source": [
    "timelog.loc[(timelog['Activity']=='Usual First Snow')]"
   ]
  },
  {
   "cell_type": "code",
   "execution_count": 50,
   "metadata": {},
   "outputs": [],
   "source": [
    "df = pd.read_csv('C:/Users/Vito/Documents/Seed_to_harvest_process_monitoring/Source/Data/Idaho/masklayers/weather.csv')\n",
    "df['year']=pd.to_datetime(df['DATE']).dt.year\n",
    "df['doy']=pd.to_datetime(df['DATE']).dt.dayofyear\n",
    "#df=df[df['year']>=2000]"
   ]
  },
  {
   "cell_type": "code",
   "execution_count": 88,
   "metadata": {},
   "outputs": [
    {
     "data": {
      "text/plain": [
       "(array([1976, 1977, 1978, 1979, 1980, 1981, 1982, 1983, 1984, 1985, 1986,\n",
       "        1987, 1988, 1989, 1990, 1991, 1992, 1993, 1994, 1995, 1996, 1998,\n",
       "        1999, 2000, 2001, 2002], dtype=int64),\n",
       " array([366, 365, 365, 365, 366, 365, 365, 365, 366, 365, 365, 365, 366,\n",
       "        365, 365, 365, 366, 365, 346, 313, 299, 207, 306, 307, 365, 303],\n",
       "       dtype=int64))"
      ]
     },
     "execution_count": 88,
     "metadata": {},
     "output_type": "execute_result"
    }
   ],
   "source": [
    "np.unique(df['year'], return_counts=True)"
   ]
  },
  {
   "cell_type": "code",
   "execution_count": 68,
   "metadata": {},
   "outputs": [
    {
     "data": {
      "text/plain": [
       "(array([ 1.,  2.,  3.,  4.,  5.,  6.,  7.,  8.,  9., 10., 11., 12., 13.,\n",
       "        14., 15., 17., 18., 19., 20., 21., 22., 24., 25., 26., 27., 30.,\n",
       "        36., 38., 40.]),\n",
       " array([ 5, 11, 16, 12,  1,  8,  7, 12,  2,  9,  1,  9,  1,  6,  4,  1,  2,\n",
       "         1,  3,  1,  1,  5,  2,  1,  5,  3,  1,  1,  1], dtype=int64))"
      ]
     },
     "execution_count": 68,
     "metadata": {},
     "output_type": "execute_result"
    }
   ],
   "source": [
    "var='SNWD'\n",
    "np.unique(df[(df[var]!=0)&(~df[var].isna())][var],return_counts=True)"
   ]
  },
  {
   "cell_type": "code",
   "execution_count": 64,
   "metadata": {},
   "outputs": [
    {
     "name": "stdout",
     "output_type": "stream",
     "text": [
      "no snow days after 180 for year 1979\n",
      "no snow days after 180 for year 1989\n",
      "no snow days after 180 for year 1995\n",
      "no snow days before 180 for year 1996\n",
      "no snow days before 180 for year 1998\n",
      "no snow days after 180 for year 2002\n"
     ]
    }
   ],
   "source": [
    "first_lst=[]\n",
    "last_lst=[]\n",
    "for yt in np.unique(df['year']):\n",
    "    snowdays=np.unique(df[(df['SNOW']!=0)&(~df['SNOW'].isna())&(df['year']==yt)]['doy'])\n",
    "    if len(snowdays)>0:\n",
    "        try:\n",
    "            first_lst.append(np.min(snowdays[snowdays>180]))\n",
    "        except:\n",
    "            print('no snow days after 180 for year', yt)\n",
    "        try:\n",
    "            last_lst.append(np.max(snowdays[snowdays<180]))\n",
    "        except:\n",
    "            print('no snow days before 180 for year', yt)"
   ]
  },
  {
   "cell_type": "code",
   "execution_count": 65,
   "metadata": {},
   "outputs": [
    {
     "data": {
      "text/plain": [
       "{'whiskers': [<matplotlib.lines.Line2D at 0x23fdf379d90>,\n",
       "  <matplotlib.lines.Line2D at 0x23fdf37a990>,\n",
       "  <matplotlib.lines.Line2D at 0x23fdd39e690>,\n",
       "  <matplotlib.lines.Line2D at 0x23fdd39ef90>],\n",
       " 'caps': [<matplotlib.lines.Line2D at 0x23fdf37bc50>,\n",
       "  <matplotlib.lines.Line2D at 0x23fdf374690>,\n",
       "  <matplotlib.lines.Line2D at 0x23fdd39f850>,\n",
       "  <matplotlib.lines.Line2D at 0x23fdd3cc150>],\n",
       " 'boxes': [<matplotlib.lines.Line2D at 0x23fdf378890>,\n",
       "  <matplotlib.lines.Line2D at 0x23fdd39de10>],\n",
       " 'medians': [<matplotlib.lines.Line2D at 0x23fdd39c850>,\n",
       "  <matplotlib.lines.Line2D at 0x23fdd3cca90>],\n",
       " 'fliers': [<matplotlib.lines.Line2D at 0x23fdf379c90>,\n",
       "  <matplotlib.lines.Line2D at 0x23fdd0e2f10>],\n",
       " 'means': []}"
      ]
     },
     "execution_count": 65,
     "metadata": {},
     "output_type": "execute_result"
    },
    {
     "data": {
      "image/png": "[encoded data removed]",
      "text/plain": [
       "<Figure size 640x480 with 1 Axes>"
      ]
     },
     "metadata": {},
     "output_type": "display_data"
    }
   ],
   "source": [
    "plt.boxplot([first_lst, last_lst])"
   ]
  },
  {
   "cell_type": "code",
   "execution_count": 73,
   "metadata": {},
   "outputs": [
    {
     "data": {
      "text/plain": [
       "<matplotlib.legend.Legend at 0x23fdec8c5d0>"
      ]
     },
     "execution_count": 73,
     "metadata": {},
     "output_type": "execute_result"
    },
    {
     "data": {
      "image/png": "[encoded data removed]",
      "text/plain": [
       "<Figure size 640x480 with 1 Axes>"
      ]
     },
     "metadata": {},
     "output_type": "display_data"
    }
   ],
   "source": [
    "#df=df[df['year']<2002]\n",
    "plt.scatter(df['doy'],df['SNOW'],label='SNOW')\n",
    "plt.scatter(df['doy'],df['SNWD'],label='SNWD')  \n",
    "plt.legend()"
   ]
  },
  {
   "cell_type": "code",
   "execution_count": 29,
   "metadata": {},
   "outputs": [
    {
     "data": {
      "text/plain": [
       "<Axes: >"
      ]
     },
     "execution_count": 29,
     "metadata": {},
     "output_type": "execute_result"
    },
    {
     "data": {
      "image/png": "[encoded data removed]",
      "text/plain": [
       "<Figure size 640x480 with 1 Axes>"
      ]
     },
     "metadata": {},
     "output_type": "display_data"
    }
   ],
   "source": [
    "df['SNWD'].unique()\n",
    "df['SNWD'].plot()"
   ]
  },
  {
   "cell_type": "code",
   "execution_count": 213,
   "metadata": {},
   "outputs": [
    {
     "data": {
      "text/html": [
       "<div>\n",
       "<style scoped>\n",
       "    .dataframe tbody tr th:only-of-type {\n",
       "        vertical-align: middle;\n",
       "    }\n",
       "\n",
       "    .dataframe tbody tr th {\n",
       "        vertical-align: top;\n",
       "    }\n",
       "\n",
       "    .dataframe thead th {\n",
       "        text-align: right;\n",
       "    }\n",
       "</style>\n",
       "<table border=\"1\" class=\"dataframe\">\n",
       "  <thead>\n",
       "    <tr style=\"text-align: right;\">\n",
       "      <th></th>\n",
       "      <th>Activity</th>\n",
       "      <th>Timestamp</th>\n",
       "      <th>Time_uncertainty</th>\n",
       "      <th>CaseID</th>\n",
       "      <th>Crop</th>\n",
       "      <th>SiteID</th>\n",
       "      <th>WGS84_lon_lat</th>\n",
       "      <th>County</th>\n",
       "      <th>State</th>\n",
       "      <th>Country</th>\n",
       "      <th>NDVI_range</th>\n",
       "      <th>num_valid_est</th>\n",
       "      <th>Multiple_crop</th>\n",
       "    </tr>\n",
       "  </thead>\n",
       "  <tbody>\n",
       "  </tbody>\n",
       "</table>\n",
       "</div>"
      ],
      "text/plain": [
       "Empty DataFrame\n",
       "Columns: [Activity, Timestamp, Time_uncertainty, CaseID, Crop, SiteID, WGS84_lon_lat, County, State, Country, NDVI_range, num_valid_est, Multiple_crop]\n",
       "Index: []"
      ]
     },
     "execution_count": 213,
     "metadata": {},
     "output_type": "execute_result"
    }
   ],
   "source": [
    "subset = timelog[timelog['SiteID'].isin([113, 158])]\n",
    "subset"
   ]
  },
  {
   "cell_type": "code",
   "execution_count": 219,
   "metadata": {},
   "outputs": [
    {
     "data": {
      "text/plain": [
       "160"
      ]
     },
     "execution_count": 219,
     "metadata": {},
     "output_type": "execute_result"
    }
   ],
   "source": [
    "site_names = os.listdir(sites_pth)\n",
    "num_sites=len(site_names)\n",
    "num_sites"
   ]
  },
  {
   "cell_type": "code",
   "execution_count": 218,
   "metadata": {},
   "outputs": [],
   "source": [
    "all_cases=np.unique(timelog['CaseID'])"
   ]
  },
  {
   "cell_type": "code",
   "execution_count": 220,
   "metadata": {},
   "outputs": [
    {
     "data": {
      "text/plain": [
       "61"
      ]
     },
     "execution_count": 220,
     "metadata": {},
     "output_type": "execute_result"
    }
   ],
   "source": [
    "no_valid_cases=[]\n",
    "for i in range(num_sites):\n",
    "    for yt in np.arange(2008,2023):\n",
    "        if f'{i:04}_{yt}' not in all_cases:\n",
    "            no_valid_cases.append(f'{i:04}_{yt}')\n",
    "len(no_valid_cases)"
   ]
  },
  {
   "cell_type": "code",
   "execution_count": 221,
   "metadata": {},
   "outputs": [
    {
     "data": {
      "text/plain": [
       "25"
      ]
     },
     "execution_count": 221,
     "metadata": {},
     "output_type": "execute_result"
    }
   ],
   "source": [
    "def warn_mark(i,n):\n",
    "    return f\"{i:04}_{n+2007}\"\n",
    "def warn_site_years(Lst):\n",
    "    threshold=np.nonzero(np.array(Lst[1])<0.75)[0]\n",
    "    return list(map(lambda x: warn_mark(Lst[0], x), threshold))\n",
    "\n",
    "with open(cdl_pth+\"/ConsistencyPerc\", \"rb\") as fp:   # Unpickling\n",
    "    site_consistencyL = pickle.load(fp)\n",
    "\n",
    "CaseID_anom=list(map(warn_site_years, enumerate(site_consistencyL)))\n",
    "\n",
    "flat_CaseID_anom = list(itertools.chain.from_iterable(CaseID_anom))\n",
    "invalid_due_to_multicrop=[case in flat_CaseID_anom for case in no_valid_cases]\n",
    "sum(invalid_due_to_multicrop)\n",
    "no_valid_cases=[no_valid_cases[i] for i in range(len(no_valid_cases)) if not invalid_due_to_multicrop[i]]\n",
    "len(no_valid_cases)"
   ]
  },
  {
   "cell_type": "code",
   "execution_count": 222,
   "metadata": {},
   "outputs": [],
   "source": [
    "crop_id=[ 'Unidentify','Corn','Cotton','Rice','Sorghum','Soybeans','Sunflower','','','','Peanuts','Tobacco','Sweet Corn','Pop or Orn Corn','Mint','','','','','','','Barley','Durum Wheat','Spring Wheat','Winter Wheat','Other Small Grains','Dbl Crop WinWht/Soybeans','Rye','Oats','Millet','Speltz','Canola','Flaxseed','Safflower','Rape Seed','Mustard','Alfalfa','Other Hay/Non Alfalfa','Camelina','Buckwheat','','Sugarbeets','Dry Beans','Potatoes','Other Crops','Sugarcane','Sweet Potatoes','Misc Vegs & Fruits','Watermelons','Onions','Cucumbers','Chick Peas','Lentils','Peas','Tomatoes','Caneberries','Hops','Herbs','Clover/Wildflowers','Sod/Grass Seed','Switchgrass','Fallow/Idle Cropland','Pasture/Grass','Forest','Shrubland','Barren','Cherries','Peaches','Apples','Grapes','Christmas Trees','Other Tree Crops','Citrus','Pecans','Almonds','Walnuts','Pears','','','','Clouds/No Data','Developed','Water','','','','Wetlands','Nonag/Undefined','','','','Aquaculture','','','','','','','','','','','','','','','','','','','Open Water','Perennial Ice/Snow','','','','','','','','','Developed/Open Space','Developed/Low Intensity','Developed/Med Intensity','Developed/High Intensity','','','','','','','Barren','','','','','','','','','','Deciduous Forest','Evergreen Forest','Mixed Forest','','','','','','','','','Shrubland','','','','','','','','','','','','','','','','','','','','','','','','Grassland/Pasture','','','','','','','','','','','','','','Woody Wetlands','','','','','Herbaceous Wetlands','','','','','','','','','Pistachios','Triticale','Carrots','Asparagus','Garlic','Cantaloupes','Prunes','Olives','Oranges','Honeydew Melons','Broccoli','Avocados','Peppers','Pomegranates','Nectarines','Greens','Plums','Strawberries','Squash','Apricots','Vetch','Dbl Crop WinWht/Corn','Dbl Crop Oats/Corn','Lettuce','Dbl Crop Triticale/Corn','Pumpkins','Dbl Crop Lettuce/Durum Wht','Dbl Crop Lettuce/Cantaloupe','Dbl Crop Lettuce/Cotton','Dbl Crop Lettuce/Barley','Dbl Crop Durum Wht/Sorghum','Dbl Crop Barley/Sorghum','Dbl Crop WinWht/Sorghum','Dbl Crop Barley/Corn','Dbl Crop WinWht/Cotton','Dbl Crop Soybeans/Cotton','Dbl Crop Soybeans/Oats','Dbl Crop Corn/Soybeans','Blueberries','Cabbage','Cauliflower','Celery','Radishes','Turnips','Eggplants','Gourds','Cranberries','','','','Dbl Crop Barley/Soybeans']\n",
    "CropID=[]\n",
    "for i in no_valid_cases:\n",
    "    sid=int(i[:4])\n",
    "    cdl=pd.read_hdf(cdl_pth+f'/Site{sid:03}_cdl.h5')\n",
    "    cid=cdl.loc[int(i[-4:])]\n",
    "    CropID.append(crop_id[int(cid)])\n"
   ]
  },
  {
   "cell_type": "code",
   "execution_count": 223,
   "metadata": {
    "vscode": {
     "languageId": "ruby"
    }
   },
   "outputs": [],
   "source": [
    "df = pd.DataFrame({'no_valid_cases': no_valid_cases})\n",
    "\n",
    "# Extract the first 4 characters into a new column\n",
    "df['site'] = df['no_valid_cases'].str[:4]\n",
    "\n",
    "# Extract the last 4 characters into a new column\n",
    "df['year'] = df['no_valid_cases'].str[-4:]\n",
    "df['CropID']=CropID\n",
    "df.drop('no_valid_cases', axis=1, inplace=True)\n"
   ]
  },
  {
   "cell_type": "code",
   "execution_count": 224,
   "metadata": {
    "vscode": {
     "languageId": "ruby"
    }
   },
   "outputs": [
    {
     "name": "stderr",
     "output_type": "stream",
     "text": [
      "C:\\Users\\Vito\\AppData\\Local\\Temp\\ipykernel_22188\\3033299473.py:17: UserWarning: FixedFormatter should only be used together with FixedLocator\n",
      "  ax[2].set_xticklabels(crops, rotation=45)\n"
     ]
    },
    {
     "data": {
      "image/png": "[encoded data removed]",
      "text/plain": [
       "<Figure size 1500x500 with 3 Axes>"
      ]
     },
     "metadata": {},
     "output_type": "display_data"
    }
   ],
   "source": [
    "sites,site_failed_count=np.unique(df['site'], return_counts=True) \n",
    "years,year_failed_count=np.unique(df['year'], return_counts=True)\n",
    "crops,crop_failed_count=np.unique(df['CropID'], return_counts=True) \n",
    "\n",
    "fig, ax = plt.subplots(1, 3, figsize=(15, 5))\n",
    "ax[0].bar(np.unique(site_failed_count, return_counts=True)[0],np.unique(site_failed_count, return_counts=True)[1])\n",
    "ax[0].set_title('Site by failed cases count')\n",
    "ax[0].grid()\n",
    "\n",
    "\n",
    "ax[1].bar(np.unique(year_failed_count, return_counts=True)[0],np.unique(year_failed_count, return_counts=True)[1])\n",
    "ax[1].set_title('Year by failed cases count')\n",
    "ax[1].grid()\n",
    "\n",
    "ax[2].bar(crops,crop_failed_count)\n",
    "ax[2].set_title('Crop by failed cases count')\n",
    "ax[2].set_xticklabels(crops, rotation=45)\n",
    "ax[2].grid()\n",
    "plt.tight_layout()\n",
    "plt.show()"
   ]
  },
  {
   "cell_type": "code",
   "execution_count": 125,
   "metadata": {
    "vscode": {
     "languageId": "ruby"
    }
   },
   "outputs": [
    {
     "data": {
      "image/png": "[encoded data removed]",
      "text/plain": [
       "<Figure size 1500x500 with 2 Axes>"
      ]
     },
     "metadata": {},
     "output_type": "display_data"
    }
   ],
   "source": [
    "sites,site_failed_count=np.unique(df['site'], return_counts=True) \n",
    "years,year_failed_count=np.unique(df['year'], return_counts=True) \n",
    "subset_df = df[df['site'].isin(sites[site_failed_count==1])]\n",
    "subset_df.reset_index(drop=True, inplace=True)\n",
    "years,year_failed_count=np.unique(subset_df['year'], return_counts=True) \n",
    "\n",
    "fig, ax = plt.subplots(1, 2, figsize=(15, 5))\n",
    "ax[0].bar(np.unique(year_failed_count, return_counts=True)[0],np.unique(year_failed_count, return_counts=True)[1])\n",
    "ax[0].set_title('Year by failed cases count [Subset to sites with only 1 failed case]')\n",
    "ax[0].grid()\n",
    "\n",
    "sites,site_failed_count=np.unique(df['site'], return_counts=True) \n",
    "years,year_failed_count=np.unique(df['year'], return_counts=True) \n",
    "subset_df = df[df['year'].isin(years[year_failed_count>2])]\n",
    "subset_df.reset_index(drop=True, inplace=True)\n",
    "site,site_failed_count=np.unique(subset_df['site'], return_counts=True) \n",
    "\n",
    "ax[1].bar(np.unique(site_failed_count, return_counts=True)[0],np.unique(site_failed_count, return_counts=True)[1])\n",
    "ax[1].set_title('site by failed cases count [Subset to years with more than 2 failed case]')\n",
    "ax[1].grid()\n",
    "plt.tight_layout()\n",
    "plt.show()"
   ]
  },
  {
   "cell_type": "code",
   "execution_count": null,
   "metadata": {
    "vscode": {
     "languageId": "ruby"
    }
   },
   "outputs": [],
   "source": [
    "#check time series integrity?if there is a lot of missing data\n",
    "#check shape?\n",
    "#check relationship with crop?"
   ]
  },
  {
   "cell_type": "code",
   "execution_count": 203,
   "metadata": {
    "vscode": {
     "languageId": "ruby"
    }
   },
   "outputs": [
    {
     "name": "stderr",
     "output_type": "stream",
     "text": [
      "C:\\Users\\Vito\\AppData\\Local\\Temp\\ipykernel_22188\\2364619463.py:11: SettingWithCopyWarning: \n",
      "A value is trying to be set on a copy of a slice from a DataFrame\n",
      "\n",
      "See the caveats in the documentation: https://pandas.pydata.org/pandas-docs/stable/user_guide/indexing.html#returning-a-view-versus-a-copy\n",
      "  subset_gdf['count']=site_failed_count\n",
      "C:\\Users\\Vito\\AppData\\Local\\Temp\\ipykernel_22188\\2364619463.py:11: SettingWithCopyWarning: \n",
      "A value is trying to be set on a copy of a slice from a DataFrame\n",
      "\n",
      "See the caveats in the documentation: https://pandas.pydata.org/pandas-docs/stable/user_guide/indexing.html#returning-a-view-versus-a-copy\n",
      "  subset_gdf['count']=site_failed_count\n"
     ]
    }
   ],
   "source": [
    "shapefile_path = 'Data/'+Case+'/masklayers/site_mask.shp'\n",
    "#= 'C:/Users/Vito/Documents/p1/masklayers/potato_flt_mask.shp'\n",
    "gdf = gpd.read_file(shapefile_path)\n",
    "\n",
    "#int_sites=[int(i) for i in np.unique(df['site'])]\n",
    "#sites,site_failed_count=np.unique(df['site'], return_counts=True)\n",
    "\n",
    "#subset_gdf = gdf.iloc[int_sites]\n",
    "subset_gdf = gdf.iloc[158]\n",
    "subset_gdf.reset_index(drop=True, inplace=True)\n",
    "subset_gdf['count']=site_failed_count"
   ]
  },
  {
   "cell_type": "code",
   "execution_count": 205,
   "metadata": {
    "vscode": {
     "languageId": "ruby"
    }
   },
   "outputs": [
    {
     "data": {
      "text/plain": [
       "VALUE                                                     1.0\n",
       "area                                              1042602.212\n",
       "area2                                             1042602.212\n",
       "geometry    POLYGON ((-874499.892563198 1675108.5148153626...\n",
       "Name: 113, dtype: object"
      ]
     },
     "execution_count": 205,
     "metadata": {},
     "output_type": "execute_result"
    }
   ],
   "source": [
    "gdf.iloc[113]"
   ]
  },
  {
   "cell_type": "code",
   "execution_count": null,
   "metadata": {
    "vscode": {
     "languageId": "ruby"
    }
   },
   "outputs": [],
   "source": [
    "ax=subset_gdf.plot(column=subset_gdf['count'],cmap='magma')\n",
    "\n",
    "# Add title and labels\n",
    "plt.title('Sites with failed cases')\n",
    "plt.xlabel('Longitude')\n",
    "plt.ylabel('Latitude')\n",
    "fig = ax.get_figure()\n",
    "cax = fig.add_axes([0.9, 0.1, 0.03, 0.8])\n",
    "sm = plt.cm.ScalarMappable(cmap='magma', norm=plt.Normalize(vmin=0, vmax=max(site_failed_count)))\n",
    "# fake up the array of the scalar mappable. Urgh...\n",
    "sm._A = []\n",
    "fig.colorbar(sm, cax=cax)\n",
    "# Show the plot\n",
    "plt.show()"
   ]
  },
  {
   "cell_type": "code",
   "execution_count": null,
   "metadata": {},
   "outputs": [],
   "source": [
    "\n",
    "#source usda field crops usual planting and harvesting --idaho\n",
    "#https://downloads.usda.library.cornell.edu/usda-esmis/files/vm40xr56k/dv13zw65p/w9505297d/planting-10-29-2010.pdf\n",
    "potato_usual=[[pd.Timestamp(2009, 4, 6).dayofyear,pd.Timestamp(2009, 6, 9).dayofyear]\n",
    "              ,[pd.Timestamp(2009, 8, 15).dayofyear,pd.Timestamp(2009, 10, 27).dayofyear]]\n",
    "\n",
    "alfalfa_usual=[[0,0]\n",
    "               ,[pd.Timestamp(2009, 5, 22).dayofyear,pd.Timestamp(2009, 10, 20).dayofyear]]\n",
    "\n",
    "sugarbeets_usual=[[pd.Timestamp(2009, 3, 24).dayofyear,pd.Timestamp(2009, 5, 5).dayofyear]\n",
    "                  ,[pd.Timestamp(2009, 9, 15).dayofyear,pd.Timestamp(2009, 11, 10).dayofyear]]\n",
    "\n",
    "springwheat_usual=[[pd.Timestamp(2009, 3, 21).dayofyear,pd.Timestamp(2009, 5, 26).dayofyear]\n",
    "                   ,[pd.Timestamp(2009, 8, 4).dayofyear,pd.Timestamp(2009, 9, 29).dayofyear]]\n",
    "\n",
    "winterwheat_usual=[[pd.Timestamp(2008, 9, 8).dayofyear,pd.Timestamp(2008, 11, 3).dayofyear]\n",
    "                   ,[pd.Timestamp(2009, 7, 23).dayofyear,pd.Timestamp(2009, 9, 14).dayofyear]]"
   ]
  },
  {
   "cell_type": "code",
   "execution_count": null,
   "metadata": {},
   "outputs": [],
   "source": [
    "\n",
    "timelog['Day_of_Year'] = timelog['Timestamp'].dt.dayofyear\n",
    "\n",
    "crops = ['Potatoes', 'Spring Wheat', 'Sugarbeets']\n",
    "usual = [potato_usual, springwheat_usual, sugarbeets_usual]\n",
    "\n",
    "fig, ax = plt.subplots(nrows=1, ncols=3, figsize=(12,6))\n",
    "ax=ax.flatten()\n",
    "\n",
    "for i, crop in enumerate(crops):\n",
    "    crop_df = timelog[timelog['Multiple_crop']==0][timelog[timelog['Multiple_crop']==0]['Crop'] == crop]\n",
    "    ax[i].boxplot([crop_df[crop_df['Activity'] == activity]['Day_of_Year'] for activity in ['Emergence', 'Maturity', 'Senescence', 'Dormancy']], labels=['Emergence', 'Maturity', 'Senescence', 'Dormancy'])\n",
    "    ax[i].hlines(usual[i][0], 0.5, 1.5, ls='--', lw=1.5, color='g', label='usual planting')\n",
    "    ax[i].hlines(usual[i][1], 3.5, 4.5, ls='--', lw=1.5, color='r', label='usual harvesting')\n",
    "    ax[i].set_title(f'{crop}',  fontsize=18)\n",
    "    ax[i].tick_params(axis='x', labelsize=16)\n",
    "    ax[i].set_xticklabels(ax[i].get_xticklabels(), rotation=45)\n",
    "ax[0].set_ylabel('Day of Year', fontsize=18)\n",
    "ax[1].set_xlabel('Activity',  fontsize=18)\n",
    "ax[0].legend()\n",
    " \n",
    "\n",
    "plt.suptitle('Result distribution with usual planting and harvesting dates',  fontsize=24)\n",
    "plt.tight_layout()\n",
    "plt.savefig('Result/boxplot_3crop.pdf', format='pdf')\n",
    "plt.show()\n"
   ]
  }
 ],
 "metadata": {
  "kernelspec": {
   "display_name": "gee",
   "language": "python",
   "name": "python3"
  },
  "language_info": {
   "codemirror_mode": {
    "name": "ipython",
    "version": 3
   },
   "file_extension": ".py",
   "mimetype": "text/x-python",
   "name": "python",
   "nbconvert_exporter": "python",
   "pygments_lexer": "ipython3",
   "version": "3.11.2"
  }
 },
 "nbformat": 4,
 "nbformat_minor": 2
}
